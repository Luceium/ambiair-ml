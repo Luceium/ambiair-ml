{
 "cells": [
  {
   "cell_type": "code",
   "execution_count": 2,
   "id": "7c8b8d08",
   "metadata": {},
   "outputs": [
    {
     "name": "stdout",
     "output_type": "stream",
     "text": [
      "Original DataFrame:\n",
      "   window-event  window-open  indoor-temp    time  outdoor-temp\n",
      "0         False         True        73.58  162713         51.08\n",
      "1         False         True        69.44  157481         54.86\n",
      "2         False         True        69.08  152994         53.60\n",
      "3         False         True        73.76  158300         54.14\n",
      "4         False         True        74.30  158378         52.16\n"
     ]
    }
   ],
   "source": [
    "import pandas as pd\n",
    "import numpy as np\n",
    "\n",
    "# Load the CSV file\n",
    "df = pd.read_csv(\"../data/periodic_backup_data.csv\")\n",
    "# Display the first few rows of the DataFrame\n",
    "print(\"Original DataFrame:\")\n",
    "print(df.head())"
   ]
  }
 ],
 "metadata": {
  "kernelspec": {
   "display_name": "Python 3",
   "language": "python",
   "name": "python3"
  },
  "language_info": {
   "codemirror_mode": {
    "name": "ipython",
    "version": 3
   },
   "file_extension": ".py",
   "mimetype": "text/x-python",
   "name": "python",
   "nbconvert_exporter": "python",
   "pygments_lexer": "ipython3",
   "version": "3.13.2"
  }
 },
 "nbformat": 4,
 "nbformat_minor": 5
}
