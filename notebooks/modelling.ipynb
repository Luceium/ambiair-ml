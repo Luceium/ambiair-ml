{
 "cells": [
  {
   "cell_type": "code",
   "execution_count": 1,
   "id": "3c81aadf",
   "metadata": {},
   "outputs": [
    {
     "name": "stdout",
     "output_type": "stream",
     "text": [
      "   window-event  window-open  indoor-temp  outdoor-temp  sin_minutes_of_day  \\\n",
      "4         False         True        77.18         77.54           -0.986286   \n",
      "5         False         True        77.18         77.54           -0.986996   \n",
      "6         False         True        77.18         77.54           -0.987688   \n",
      "7         False         True        77.18         77.54           -0.989016   \n",
      "8         False         True        77.18         77.54           -0.990268   \n",
      "\n",
      "   cos_minutes_of_day  sin_day_of_year  cos_day_of_year  temp_diff  \\\n",
      "4           -0.165048         0.982927        -0.183998      -0.36   \n",
      "5           -0.160743         0.982927        -0.183998      -0.36   \n",
      "6           -0.156434         0.982927        -0.183998      -0.36   \n",
      "7           -0.147809         0.982927        -0.183998      -0.36   \n",
      "8           -0.139173         0.982927        -0.183998      -0.36   \n",
      "\n",
      "   rolling_mean_indoor_temp  rolling_std_indoor_temp  \\\n",
      "4                     77.18                      0.0   \n",
      "5                     77.18                      0.0   \n",
      "6                     77.18                      0.0   \n",
      "7                     77.18                      0.0   \n",
      "8                     77.18                      0.0   \n",
      "\n",
      "   rolling_mean_outdoor_temp  rolling_std_outdoor_temp  \\\n",
      "4                      77.54                       0.0   \n",
      "5                      77.54                       0.0   \n",
      "6                      77.54                       0.0   \n",
      "7                      77.54                       0.0   \n",
      "8                      77.54                       0.0   \n",
      "\n",
      "   rolling_mean_temp_diff  rolling_std_temp_diff  lagged_indoor_temp  \\\n",
      "4                   -0.36                    0.0               77.18   \n",
      "5                   -0.36                    0.0               77.18   \n",
      "6                   -0.36                    0.0               77.18   \n",
      "7                   -0.36                    0.0               77.18   \n",
      "8                   -0.36                    0.0               77.18   \n",
      "\n",
      "   lagged_outdoor_temp  \n",
      "4                77.54  \n",
      "5                77.54  \n",
      "6                77.54  \n",
      "7                77.54  \n",
      "8                77.54  \n"
     ]
    }
   ],
   "source": [
    "import pandas as pd\n",
    "import sys\n",
    "if '../' not in sys.path:\n",
    "    # necessary to access the src folder without relative imports\n",
    "    sys.path.append('../')\n",
    "from src.data.prepare_data import *\n",
    "\n",
    "# Load the CSV file\n",
    "df = pd.read_csv(\"../data/sorted_data.csv\")\n",
    "\n",
    "df = extract_features(df).dropna()\n",
    "print(df.head())\n",
    "\n",
    "X = df.drop(columns=['window-event','window-open'])\n",
    "y_window_open = df['window-open']\n",
    "y_window_event = df['window-event']"
   ]
  },
  {
   "cell_type": "markdown",
   "id": "73842c1f",
   "metadata": {},
   "source": [
    "# Train models\n",
    "For now we will train against classifying window status and and window events to see which is more useful.\n",
    "\n",
    "### Models:\n",
    "- Random Forest\n",
    "- Gradient Boosting\n",
    "- Logistic Regression\n",
    "- RNN\n",
    "- LSTM\n",
    "- TCN\n",
    "\n",
    "We'll start by testing the first models. Depending on the results we will add more complex models.\n",
    "\n",
    "### Evaluation:\n",
    "Metrics to evaluate the models:\n",
    "- Accuracy\n",
    "- Precision\n",
    "- Recall\n",
    "- F1 Score\n",
    "\n",
    "Training splits:\n",
    "- k-fold cross-validation with n iterations\n",
    "- leave one episode out with 50% overlap between episodes"
   ]
  },
  {
   "cell_type": "markdown",
   "id": "2c2a5e56",
   "metadata": {},
   "source": []
  },
  {
   "cell_type": "code",
   "execution_count": 3,
   "id": "33f94ba1",
   "metadata": {},
   "outputs": [
    {
     "name": "stderr",
     "output_type": "stream",
     "text": [
      "/home/luceium/.local/lib/python3.13/site-packages/sklearn/metrics/_classification.py:1565: UndefinedMetricWarning: F-score is ill-defined and being set to 0.0 due to no true nor predicted samples. Use `zero_division` parameter to control this behavior.\n",
      "  _warn_prf(average, modifier, f\"{metric.capitalize()} is\", len(result))\n",
      "/home/luceium/.local/lib/python3.13/site-packages/sklearn/metrics/_classification.py:1565: UndefinedMetricWarning: F-score is ill-defined and being set to 0.0 due to no true nor predicted samples. Use `zero_division` parameter to control this behavior.\n",
      "  _warn_prf(average, modifier, f\"{metric.capitalize()} is\", len(result))\n",
      "/home/luceium/.local/lib/python3.13/site-packages/sklearn/metrics/_classification.py:1565: UndefinedMetricWarning: F-score is ill-defined and being set to 0.0 due to no true nor predicted samples. Use `zero_division` parameter to control this behavior.\n",
      "  _warn_prf(average, modifier, f\"{metric.capitalize()} is\", len(result))\n"
     ]
    },
    {
     "name": "stdout",
     "output_type": "stream",
     "text": [
      "Window Open - Average Accuracy: 0.9991, Average F1 Score: 0.9991\n",
      "Window Event - Average Accuracy: 0.9991, Average F1 Score: 0.0000\n",
      "Window Open - Average Accuracy: 0.0000, Average F1 Score: 0.0000\n",
      "Window Event - Average Accuracy: 0.0000, Average F1 Score: 0.0000\n"
     ]
    },
    {
     "name": "stderr",
     "output_type": "stream",
     "text": [
      "/home/luceium/.local/lib/python3.13/site-packages/sklearn/metrics/_classification.py:1565: UndefinedMetricWarning: F-score is ill-defined and being set to 0.0 due to no true nor predicted samples. Use `zero_division` parameter to control this behavior.\n",
      "  _warn_prf(average, modifier, f\"{metric.capitalize()} is\", len(result))\n"
     ]
    }
   ],
   "source": [
    "# k-fold cross-validation\n",
    "from sklearn.model_selection import StratifiedKFold\n",
    "from sklearn.metrics import accuracy_score, f1_score\n",
    "from sklearn.ensemble import RandomForestClassifier\n",
    "from sklearn.linear_model import LogisticRegression\n",
    "\n",
    "n_folds = 10\n",
    "skf = StratifiedKFold(n_splits=n_folds, shuffle=True, random_state=42)\n",
    "random_forest_results = {\n",
    "    'window-open': {\n",
    "        'accuracy': [],\n",
    "        'f1': []\n",
    "    },\n",
    "    'window-event': {\n",
    "        'accuracy': [],\n",
    "        'f1': []\n",
    "    }\n",
    "}\n",
    "logistic_regression_results = {\n",
    "    'window-open': {\n",
    "        'accuracy': [],\n",
    "        'f1': []\n",
    "    },\n",
    "    'window-event': {\n",
    "        'accuracy': [],\n",
    "        'f1': []\n",
    "    }\n",
    "}\n",
    "\n",
    "for train_index, test_index in skf.split(X, y_window_open):\n",
    "    X_train, X_test = X.iloc[train_index], X.iloc[test_index]\n",
    "    y_train_window_open, y_test_window_open = y_window_open.iloc[train_index], y_window_open.iloc[test_index]\n",
    "    y_train_window_event, y_test_window_event = y_window_event.iloc[train_index], y_window_event.iloc[test_index]\n",
    "\n",
    "    # Train and evaluate the model for window-open\n",
    "    model = RandomForestClassifier(random_state=42)\n",
    "    model.fit(X_train, y_train_window_open)\n",
    "    y_pred_window_open = model.predict(X_test)\n",
    "    random_forest_results['window-open']['accuracy'].append(accuracy_score(y_test_window_open, y_pred_window_open))\n",
    "    random_forest_results['window-open']['f1'].append(f1_score(y_test_window_open, y_pred_window_open))\n",
    "\n",
    "    # Train and evaluate the model for window-event\n",
    "    model = LogisticRegression(random_state=42)\n",
    "    model.fit(X_train, y_train_window_event)\n",
    "    y_pred_window_event = model.predict(X_test)\n",
    "    random_forest_results['window-event']['accuracy'].append(accuracy_score(y_test_window_event, y_pred_window_event))\n",
    "    random_forest_results['window-event']['f1'].append(f1_score(y_test_window_event, y_pred_window_event))\n",
    "# Calculate the average accuracy and F1 score for each model\n",
    "# Random Forest\n",
    "avg_accuracy_window_open = sum(random_forest_results['window-open']['accuracy']) / n_folds\n",
    "avg_f1_window_open = sum(random_forest_results['window-open']['f1']) / n_folds\n",
    "avg_accuracy_window_event = sum(random_forest_results['window-event']['accuracy']) / n_folds\n",
    "avg_f1_window_event = sum(random_forest_results['window-event']['f1']) / n_folds\n",
    "# Print the results\n",
    "print(f\"Window Open - Average Accuracy: {avg_accuracy_window_open:.4f}, Average F1 Score: {avg_f1_window_open:.4f}\")\n",
    "print(f\"Window Event - Average Accuracy: {avg_accuracy_window_event:.4f}, Average F1 Score: {avg_f1_window_event:.4f}\")\n",
    "\n",
    "# Logistic Regression\n",
    "avg_accuracy_window_open = sum(logistic_regression_results['window-open']['accuracy']) / n_folds\n",
    "avg_f1_window_open = sum(logistic_regression_results['window-open']['f1']) / n_folds\n",
    "avg_accuracy_window_event = sum(logistic_regression_results['window-event']['accuracy']) / n_folds\n",
    "avg_f1_window_event = sum(logistic_regression_results['window-event']['f1']) / n_folds\n",
    "# Print the results\n",
    "print(f\"Window Open - Average Accuracy: {avg_accuracy_window_open:.4f}, Average F1 Score: {avg_f1_window_open:.4f}\")\n",
    "print(f\"Window Event - Average Accuracy: {avg_accuracy_window_event:.4f}, Average F1 Score: {avg_f1_window_event:.4f}\")"
   ]
  }
 ],
 "metadata": {
  "kernelspec": {
   "display_name": "ambiair",
   "language": "python",
   "name": "python3"
  },
  "language_info": {
   "codemirror_mode": {
    "name": "ipython",
    "version": 3
   },
   "file_extension": ".py",
   "mimetype": "text/x-python",
   "name": "python",
   "nbconvert_exporter": "python",
   "pygments_lexer": "ipython3",
   "version": "3.13.3"
  }
 },
 "nbformat": 4,
 "nbformat_minor": 5
}
