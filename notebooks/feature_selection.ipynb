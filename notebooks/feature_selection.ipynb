{
 "cells": [
  {
   "cell_type": "code",
   "execution_count": 1,
   "id": "7c8b8d08",
   "metadata": {},
   "outputs": [
    {
     "name": "stdout",
     "output_type": "stream",
     "text": [
      "Original DataFrame:\n",
      "   window-event  window-open  indoor-temp    time  outdoor-temp\n",
      "0         False         True        73.58  162713         51.08\n",
      "1         False         True        69.44  157481         54.86\n",
      "2         False         True        69.08  152994         53.60\n",
      "3         False         True        73.76  158300         54.14\n",
      "4         False         True        74.30  158378         52.16\n"
     ]
    }
   ],
   "source": [
    "import pandas as pd\n",
    "import numpy as np\n",
    "\n",
    "# Load the CSV file\n",
    "original_df = pd.read_csv(\"../data/periodic_backup_data.csv\")\n",
    "# Display the first few rows of the DataFrame\n",
    "print(\"Original DataFrame:\")\n",
    "print(original_df.head())\n",
    "\n",
    "# Create a copy of the original DataFrame that will be expanded\n",
    "full_df = original_df.copy()"
   ]
  },
  {
   "cell_type": "markdown",
   "id": "30e7bc5f",
   "metadata": {},
   "source": [
    "Add and extract features"
   ]
  },
  {
   "cell_type": "code",
   "execution_count": 2,
   "id": "ba43b615",
   "metadata": {},
   "outputs": [
    {
     "name": "stdout",
     "output_type": "stream",
     "text": [
      "DataFrame after feature extraction:\n",
      "   window-event  window-open  indoor-temp  outdoor-temp  sin_minutes_of_day  \\\n",
      "0         False         True        73.58         51.08           -0.030539   \n",
      "1         False         True        69.44         54.86            0.763232   \n",
      "2         False         True        69.08         53.60            0.999657   \n",
      "3         False         True        73.76         54.14           -0.422618   \n",
      "4         False         True        74.30         52.16           -0.095846   \n",
      "\n",
      "   cos_minutes_of_day  sin_day_of_year  cos_day_of_year  temp_diff  \\\n",
      "0            0.999534         0.936881        -0.349647      22.50   \n",
      "1           -0.646124         0.953681        -0.300820      14.58   \n",
      "2            0.026177         0.967938        -0.251190      15.48   \n",
      "3            0.906308         0.953681        -0.300820      19.62   \n",
      "4            0.995396         0.953681        -0.300820      22.14   \n",
      "\n",
      "   rolling_mean_indoor_temp  rolling_std_indoor_temp  \\\n",
      "0                       NaN                      NaN   \n",
      "1                       NaN                      NaN   \n",
      "2                       NaN                      NaN   \n",
      "3                       NaN                      NaN   \n",
      "4                    72.032                 2.547493   \n",
      "\n",
      "   rolling_mean_outdoor_temp  rolling_std_outdoor_temp  \\\n",
      "0                        NaN                       NaN   \n",
      "1                        NaN                       NaN   \n",
      "2                        NaN                       NaN   \n",
      "3                        NaN                       NaN   \n",
      "4                     53.168                  1.530529   \n",
      "\n",
      "   rolling_mean_temp_diff  rolling_std_temp_diff  lagged_indoor_temp  \\\n",
      "0                     NaN                    NaN                 NaN   \n",
      "1                     NaN                    NaN               73.58   \n",
      "2                     NaN                    NaN               69.44   \n",
      "3                     NaN                    NaN               69.08   \n",
      "4                  18.864               3.685387               73.76   \n",
      "\n",
      "   lagged_outdoor_temp  lagged_temp_diff  \n",
      "0                  NaN               NaN  \n",
      "1                51.08             22.50  \n",
      "2                54.86             14.58  \n",
      "3                53.60             15.48  \n",
      "4                54.14             19.62  \n"
     ]
    }
   ],
   "source": [
    "import sys\n",
    "if '../' not in sys.path:\n",
    "    # necessary to access the src folder without relative imports\n",
    "    sys.path.append('../')\n",
    "from src.data.prepare_data import *\n",
    "\n",
    "full_df = add_time_features(original_df)\n",
    "full_df = add_temp_diff(full_df)\n",
    "full_df = add_rolling_features(full_df)\n",
    "full_df = add_lagged_features(full_df)\n",
    "# Display the first few rows of the DataFrame after feature extraction\n",
    "print(\"DataFrame after feature extraction:\")\n",
    "print(full_df.head())"
   ]
  },
  {
   "cell_type": "code",
   "execution_count": null,
   "id": "c190a42c",
   "metadata": {},
   "outputs": [],
   "source": []
  },
  {
   "cell_type": "markdown",
   "id": "eb0714ee",
   "metadata": {},
   "source": [
    "Visualize feature correlations and perform dimensionality reduction"
   ]
  }
 ],
 "metadata": {
  "kernelspec": {
   "display_name": "Python 3",
   "language": "python",
   "name": "python3"
  },
  "language_info": {
   "codemirror_mode": {
    "name": "ipython",
    "version": 3
   },
   "file_extension": ".py",
   "mimetype": "text/x-python",
   "name": "python",
   "nbconvert_exporter": "python",
   "pygments_lexer": "ipython3",
   "version": "3.13.2"
  }
 },
 "nbformat": 4,
 "nbformat_minor": 5
}
