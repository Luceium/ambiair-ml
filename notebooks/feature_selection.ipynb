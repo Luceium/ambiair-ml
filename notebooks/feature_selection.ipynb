{
 "cells": [
  {
   "cell_type": "code",
   "execution_count": 1,
   "id": "7c8b8d08",
   "metadata": {},
   "outputs": [
    {
     "name": "stdout",
     "output_type": "stream",
     "text": [
      "Original DataFrame:\n",
      "   window-event  window-open  indoor-temp    time  outdoor-temp\n",
      "0          True         True        77.18  147918         77.54\n",
      "1         False         True        77.18  147919         77.54\n",
      "2         False         True        77.18  147920         77.54\n",
      "3         False         True        77.18  147921         77.54\n",
      "4         False         True        77.18  147922         77.54\n"
     ]
    }
   ],
   "source": [
    "import pandas as pd\n",
    "import numpy as np\n",
    "\n",
    "# Load the CSV file\n",
    "original_df = pd.read_csv(\"../data/sorted_data.csv\")\n",
    "# Display the first few rows of the DataFrame\n",
    "print(\"Original DataFrame:\")\n",
    "print(original_df.head())\n",
    "\n",
    "# Create a copy of the original DataFrame that will be expanded\n",
    "full_df = original_df.copy()"
   ]
  },
  {
   "cell_type": "markdown",
   "id": "30e7bc5f",
   "metadata": {},
   "source": [
    "Add and extract features"
   ]
  },
  {
   "cell_type": "code",
   "execution_count": 2,
   "id": "ba43b615",
   "metadata": {},
   "outputs": [
    {
     "name": "stdout",
     "output_type": "stream",
     "text": [
      "DataFrame after feature extraction:\n",
      "   window-event  window-open  indoor-temp  outdoor-temp  sin_minutes_of_day  \\\n",
      "0          True         True        77.18         77.54           -0.983255   \n",
      "1         False         True        77.18         77.54           -0.984041   \n",
      "2         False         True        77.18         77.54           -0.984808   \n",
      "3         False         True        77.18         77.54           -0.985556   \n",
      "4         False         True        77.18         77.54           -0.986286   \n",
      "\n",
      "   cos_minutes_of_day  sin_day_of_year  cos_day_of_year           date_time  \\\n",
      "0           -0.182236         0.982927        -0.183998 2025-04-13 17:18:00   \n",
      "1           -0.177944         0.982927        -0.183998 2025-04-13 17:19:00   \n",
      "2           -0.173648         0.982927        -0.183998 2025-04-13 17:20:00   \n",
      "3           -0.169350         0.982927        -0.183998 2025-04-13 17:21:00   \n",
      "4           -0.165048         0.982927        -0.183998 2025-04-13 17:22:00   \n",
      "\n",
      "   temp_diff  rolling_mean_indoor_temp  rolling_std_indoor_temp  \\\n",
      "0      -0.36                       NaN                      NaN   \n",
      "1      -0.36                       NaN                      NaN   \n",
      "2      -0.36                       NaN                      NaN   \n",
      "3      -0.36                       NaN                      NaN   \n",
      "4      -0.36                     77.18                      0.0   \n",
      "\n",
      "   rolling_mean_outdoor_temp  rolling_std_outdoor_temp  \\\n",
      "0                        NaN                       NaN   \n",
      "1                        NaN                       NaN   \n",
      "2                        NaN                       NaN   \n",
      "3                        NaN                       NaN   \n",
      "4                      77.54                       0.0   \n",
      "\n",
      "   rolling_mean_temp_diff  rolling_std_temp_diff  lagged_indoor_temp  \\\n",
      "0                     NaN                    NaN                 NaN   \n",
      "1                     NaN                    NaN               77.18   \n",
      "2                     NaN                    NaN               77.18   \n",
      "3                     NaN                    NaN               77.18   \n",
      "4                   -0.36                    0.0               77.18   \n",
      "\n",
      "   lagged_outdoor_temp  \n",
      "0                  NaN  \n",
      "1                77.54  \n",
      "2                77.54  \n",
      "3                77.54  \n",
      "4                77.54  \n"
     ]
    }
   ],
   "source": [
    "import sys\n",
    "if '../' not in sys.path:\n",
    "    # necessary to access the src folder without relative imports\n",
    "    sys.path.append('../')\n",
    "from src.data.prepare_data import *\n",
    "\n",
    "full_df = add_time_features(original_df)\n",
    "full_df = add_temp_diff(full_df)\n",
    "full_df = add_rolling_features(full_df)\n",
    "full_df = add_lagged_features(full_df)\n",
    "# Display the first few rows of the DataFrame after feature extraction\n",
    "print(\"DataFrame after feature extraction:\")\n",
    "print(full_df.head())"
   ]
  },
  {
   "cell_type": "code",
   "execution_count": 3,
   "id": "0b98b289",
   "metadata": {},
   "outputs": [],
   "source": [
    "# Standardize the features\n",
    "# TODO\n",
    "# from sklearn.preprocessing import StandardScaler\n",
    "# scaler = StandardScaler()\n",
    "# # Select the features to standardize\n",
    "# features_to_standardize = [\n",
    "#     'temp_diff', 'rolling_mean', 'rolling_std', 'lagged_temp', 'lagged_humidity'\n",
    "# ]\n",
    "# # Standardize the selected features\n",
    "# full_df[features_to_standardize] = scaler.fit_transform(full_df[features_to_standardize])"
   ]
  },
  {
   "cell_type": "code",
   "execution_count": 4,
   "id": "c190a42c",
   "metadata": {},
   "outputs": [
    {
     "name": "stdout",
     "output_type": "stream",
     "text": [
      "Window Open Feature Importance:\n",
      "                      Feature        Score\n",
      "5             cos_day_of_year  4379.985616\n",
      "4             sin_day_of_year  4019.287856\n",
      "3          cos_minutes_of_day   149.267617\n",
      "2          sin_minutes_of_day    66.831764\n",
      "7    rolling_mean_indoor_temp    21.468065\n",
      "1                outdoor-temp    20.925093\n",
      "13         lagged_indoor_temp    20.921567\n",
      "14        lagged_outdoor_temp    20.849978\n",
      "9   rolling_mean_outdoor_temp    20.809087\n",
      "0                 indoor-temp    20.553227\n",
      "8     rolling_std_indoor_temp    12.294847\n",
      "12      rolling_std_temp_diff    11.734846\n",
      "6                   temp_diff     9.276251\n",
      "11     rolling_mean_temp_diff     9.029224\n",
      "10   rolling_std_outdoor_temp     1.857394\n",
      "Window Event Feature Importance:\n",
      "                      Feature      Score\n",
      "14        lagged_outdoor_temp  16.830665\n",
      "9   rolling_mean_outdoor_temp  16.383167\n",
      "1                outdoor-temp  15.394137\n",
      "5             cos_day_of_year  13.083169\n",
      "11     rolling_mean_temp_diff  12.975989\n",
      "6                   temp_diff  11.833413\n",
      "4             sin_day_of_year  10.537004\n",
      "3          cos_minutes_of_day   5.052534\n",
      "10   rolling_std_outdoor_temp   4.581678\n",
      "0                 indoor-temp   2.328458\n",
      "13         lagged_indoor_temp   2.116554\n",
      "7    rolling_mean_indoor_temp   2.051020\n",
      "8     rolling_std_indoor_temp   0.823605\n",
      "2          sin_minutes_of_day   0.703611\n",
      "12      rolling_std_temp_diff   0.418724\n"
     ]
    }
   ],
   "source": [
    "# Identify feature importance\n",
    "from sklearn.feature_selection import SelectKBest\n",
    "from sklearn.feature_selection import f_classif\n",
    "\n",
    "# Drop rows with NaN values\n",
    "full_df = full_df.dropna()\n",
    "\n",
    "X = full_df.drop(columns=['window-event','window-open', 'date_time'])\n",
    "y_window_open = full_df['window-open']\n",
    "y_window_event = full_df['window-event']\n",
    "\n",
    "# Select features\n",
    "window_open_selector = SelectKBest(score_func=f_classif, k='all')\n",
    "window_open_selector.fit(X, y_window_open)\n",
    "\n",
    "window_event_selector = SelectKBest(score_func=f_classif, k='all')\n",
    "window_event_selector.fit(X, y_window_event)\n",
    "\n",
    "# Print the feature scores\n",
    "window_open_feature_scores = window_open_selector.scores_\n",
    "window_event_feature_scores = window_event_selector.scores_\n",
    "\n",
    "feature_names = X.columns\n",
    "window_open_importance_df = pd.DataFrame({'Feature': feature_names, 'Score': window_open_feature_scores})\n",
    "window_event_importance_df = pd.DataFrame({'Feature': feature_names, 'Score': window_event_feature_scores})\n",
    "\n",
    "window_open_importance_df = window_open_importance_df.sort_values(by='Score', ascending=False)\n",
    "window_event_importance_df = window_event_importance_df.sort_values(by='Score', ascending=False)\n",
    "\n",
    "print(\"Window Open Feature Importance:\")\n",
    "print(window_open_importance_df)\n",
    "\n",
    "print(\"Window Event Feature Importance:\")\n",
    "print(window_event_importance_df)"
   ]
  },
  {
   "cell_type": "code",
   "execution_count": 5,
   "id": "4c1df99e",
   "metadata": {},
   "outputs": [],
   "source": [
    "# Drop least important features\n",
    "# full_df = full_df.drop(columns=feature_importance_df[feature_importance_df['Score'] < 0.1]['Feature'])"
   ]
  },
  {
   "cell_type": "markdown",
   "id": "eb0714ee",
   "metadata": {},
   "source": [
    "Visualize feature correlations and perform dimensionality reduction"
   ]
  }
 ],
 "metadata": {
  "kernelspec": {
   "display_name": "ambiair",
   "language": "python",
   "name": "python3"
  },
  "language_info": {
   "codemirror_mode": {
    "name": "ipython",
    "version": 3
   },
   "file_extension": ".py",
   "mimetype": "text/x-python",
   "name": "python",
   "nbconvert_exporter": "python",
   "pygments_lexer": "ipython3",
   "version": "3.13.3"
  }
 },
 "nbformat": 4,
 "nbformat_minor": 5
}
