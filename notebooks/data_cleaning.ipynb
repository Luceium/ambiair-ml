{
 "cells": [
  {
   "cell_type": "code",
   "execution_count": 1,
   "id": "2c5da43c",
   "metadata": {},
   "outputs": [
    {
     "name": "stdout",
     "output_type": "stream",
     "text": [
      "   window-event  window-open  indoor-temp    time  outdoor-temp\n",
      "0          True         True        77.18  147918         77.54\n",
      "1         False         True        77.18  147919         77.54\n",
      "2         False         True        77.18  147920         77.54\n",
      "3         False         True        77.18  147921         77.54\n",
      "4         False         True        77.18  147922         77.54\n"
     ]
    }
   ],
   "source": [
    "import sys\n",
    "if '../' not in sys.path:\n",
    "    # Add the parent directory to the system path\n",
    "    sys.path.append('../')\n",
    "    from src.data.clean_data import *\n",
    "    from src.utils.time_utils import *\n",
    "\n",
    "df = pd.read_csv(\"../data/sorted_data.csv\")\n",
    "print(df.head())"
   ]
  },
  {
   "cell_type": "code",
   "execution_count": 2,
   "id": "85fc7067",
   "metadata": {},
   "outputs": [
    {
     "name": "stdout",
     "output_type": "stream",
     "text": [
      "   window-event  window-open  indoor-temp    time  outdoor-temp\n",
      "0          True         True        77.18  147918         77.54\n",
      "1         False         True        77.18  147919         77.54\n",
      "2         False         True        77.18  147920         77.54\n",
      "3         False         True        77.18  147921         77.54\n",
      "4         False         True        77.18  147922         77.54\n"
     ]
    }
   ],
   "source": [
    "df.sort_values(by='time', inplace=True)\n",
    "print(df.head())\n",
    "df.to_csv(\"../data/sorted_data.csv\", index=False)"
   ]
  },
  {
   "cell_type": "code",
   "execution_count": 3,
   "id": "fabc1bc2",
   "metadata": {},
   "outputs": [],
   "source": [
    "extract_continuous_series(df, 15)"
   ]
  },
  {
   "cell_type": "code",
   "execution_count": 4,
   "id": "6b556f86",
   "metadata": {},
   "outputs": [
    {
     "name": "stdout",
     "output_type": "stream",
     "text": [
      "0.csv: 2572 lines\n",
      "1.csv: 2849 lines\n",
      "2.csv: 1180 lines\n",
      "3.csv: 3160 lines\n",
      "4.csv: 6483 lines\n",
      "5.csv: 29 lines\n",
      "Total lines in all files: 16273\n",
      "Expected: 16279\n",
      "Longest continuous series: 4.csv with 6483 lines\n"
     ]
    }
   ],
   "source": [
    "# Identify longest continuous series and verify no loss of data\n",
    "import os\n",
    "\n",
    "max = 0\n",
    "longest_series_file = \"\"\n",
    "sum = 0\n",
    "\n",
    "for filename in os.listdir(\"../data/continuous_series/\"):\n",
    "    with open(f\"../data/continuous_series/{filename}\", 'r') as f:\n",
    "        lines = len(f.readlines()) - 2  # Exclude header and trailing newline\n",
    "        print(f\"{filename}: {lines} lines\")\n",
    "        if lines > max:\n",
    "           max = lines\n",
    "           longest_series_file = filename\n",
    "        sum += lines\n",
    "print(f\"Total lines in all files: {sum}\\nExpected: {len(df)}\")\n",
    "\n",
    "print(f\"Longest continuous series: {longest_series_file} with {max} lines\")\n"
   ]
  }
 ],
 "metadata": {
  "kernelspec": {
   "display_name": "Python 3",
   "language": "python",
   "name": "python3"
  },
  "language_info": {
   "codemirror_mode": {
    "name": "ipython",
    "version": 3
   },
   "file_extension": ".py",
   "mimetype": "text/x-python",
   "name": "python",
   "nbconvert_exporter": "python",
   "pygments_lexer": "ipython3",
   "version": "3.13.2"
  }
 },
 "nbformat": 4,
 "nbformat_minor": 5
}
